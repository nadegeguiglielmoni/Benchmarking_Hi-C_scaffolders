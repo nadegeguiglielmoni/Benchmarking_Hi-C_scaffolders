{
 "cells": [
  {
   "cell_type": "markdown",
   "metadata": {},
   "source": [
    "# Preprocessing step\n",
    "\n",
    "The input data to run 3D-DNA can be generated using Juicer, which is available at https://github.com/aidenlab/juicer\n",
    "\n",
    "The script generate_restriction_sites_positions.py is used to generate the file sim_c500/sim_c500_GCF_000002985.6_WBcel235_genomic.mixed.fa_DpnII.txt with the restriction sites. The arguments are the restriction enzyme and the assembly to scaffold."
   ]
  },
  {
   "cell_type": "code",
   "execution_count": null,
   "metadata": {},
   "outputs": [],
   "source": [
    "python generate_restriction_sites_positions.py DpnII sim_c500/sim_c500_GCF_000002985.6_WBcel235_genomic.mixed.fa"
   ]
  },
  {
   "cell_type": "markdown",
   "metadata": {},
   "source": [
    "A second file needs to be created with the contigs name and length, here called chrom_sizes_c500.txt.\n",
    "\n",
    "The pipeline Juicer is run with the following arguments:\n",
    "&nbsp;&nbsp;&nbsp;&nbsp;&nbsp;&nbsp;-s : restriction enzyme<br/>\n",
    "&nbsp;&nbsp;&nbsp;&nbsp;&nbsp;&nbsp;-y : restriction sites file<br/>\n",
    "&nbsp;&nbsp;&nbsp;&nbsp;&nbsp;&nbsp;-z : assembly to scaffold<br/>\n",
    "&nbsp;&nbsp;&nbsp;&nbsp;&nbsp;&nbsp;-p : contigs length file<br/>\n",
    "\n",
    "To run the program, the Hi-C reads must be in a subfolder called fastq, with the two ends ending with _R1.fastq and _R2.fastq."
   ]
  },
  {
   "cell_type": "code",
   "execution_count": null,
   "metadata": {},
   "outputs": [],
   "source": [
    "./juicer-master/CPU/juicer.sh -s DpnII \\\n",
    "    -y sim_c500/sim_c500_GCF_000002985.6_WBcel235_genomic.mixed.fa_DpnII.txt \\\n",
    "    -z sim_c500/sim_c500_GCF_000002985.6_WBcel235_genomic.mixed.fa \\\n",
    "    -p chrom_sizes_c500.txt \\\n",
    "    -D ./juicer-master/CPU"
   ]
  },
  {
   "cell_type": "markdown",
   "metadata": {},
   "source": [
    "The output which will then be used for scaffolding is stored in the subfolder aligned and is called merged_nodups.txt."
   ]
  },
  {
   "cell_type": "markdown",
   "metadata": {},
   "source": [
    "# Scaffolding\n",
    "\n",
    "The script run-asm-pipeline.sh is used for scaffolding. The arguments are the assembly to scaffold, then the merged_nodups.txt file. Parameters can be specified such as:<br/>\n",
    "&nbsp;&nbsp;&nbsp;&nbsp;&nbsp;&nbsp;--mode : haploid/diploid (default=haploid)<br/>\n",
    "&nbsp;&nbsp;&nbsp;&nbsp;&nbsp;&nbsp;--input : minimum input contig size (default=15000)<br/>\n",
    "&nbsp;&nbsp;&nbsp;&nbsp;&nbsp;&nbsp;--round : number of rounds for misjoin correction (default=2)<br/>\n",
    "\n",
    "For the simulations, the default parameters were used, except for --input which was set to 500."
   ]
  },
  {
   "cell_type": "code",
   "execution_count": null,
   "metadata": {},
   "outputs": [],
   "source": [
    "run-asm-pipeline.sh -i 500 sim_c500/sim_c500_GCF_000002985.6_WBcel235_genomic.mixed.fa aligned/merged_nodups.txt"
   ]
  },
  {
   "cell_type": "markdown",
   "metadata": {},
   "source": [
    "The output scaffolds can be found in the file sim_c500_GCF_000002985.6_WBcel235_genomic.mixed.FINAL.fasta"
   ]
  },
  {
   "cell_type": "code",
   "execution_count": null,
   "metadata": {},
   "outputs": [],
   "source": []
  }
 ],
 "metadata": {
  "kernelspec": {
   "display_name": "Bash",
   "language": "bash",
   "name": "bash"
  },
  "language_info": {
   "codemirror_mode": "shell",
   "file_extension": ".sh",
   "mimetype": "text/x-sh",
   "name": "bash"
  }
 },
 "nbformat": 4,
 "nbformat_minor": 2
}
