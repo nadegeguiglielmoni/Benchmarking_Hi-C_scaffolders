{
 "cells": [
  {
   "cell_type": "markdown",
   "metadata": {},
   "source": [
    "# Preprocessing\n",
    "\n",
    "The input data to run SALSA2 is generated with the mapping pipeline available at https://github.com/ArimaGenomics \n",
    "\n",
    "## Mapping"
   ]
  },
  {
   "cell_type": "code",
   "execution_count": null,
   "metadata": {},
   "outputs": [],
   "source": [
    "bwa index sim_c500/sim_c500_GCF_000002985.6_WBcel235_genomic.mixed.fa\n",
    "bwa mem -B 8 sim_c500/sim_c500_GCF_000002985.6_WBcel235_genomic.mixed.fa end1.fastq | samtools view -bS > salsa_scaffolding.end1.bam\n",
    "bwa mem -B 8 sim_c500/sim_c500_GCF_000002985.6_WBcel235_genomic.mixed.fa end2.fastq | samtools view -bS > salsa_scaffolding.end2.bam"
   ]
  },
  {
   "cell_type": "markdown",
   "metadata": {},
   "source": [
    "## Filtering 5'"
   ]
  },
  {
   "cell_type": "code",
   "execution_count": null,
   "metadata": {},
   "outputs": [],
   "source": [
    "samtools view -h salsa_scaffolding.end1.bam | perl filter_five_end.pl | samtools view -bS > salsa_scaffolding.filtered.end1.bam\n",
    "samtools view -h salsa_scaffolding.end2.bam | perl filter_five_end.pl | samtools view -bS > salsa_scaffolding.filtered.end2.bam"
   ]
  },
  {
   "cell_type": "markdown",
   "metadata": {},
   "source": [
    "## Combine and filter on mapping quality"
   ]
  },
  {
   "cell_type": "code",
   "execution_count": null,
   "metadata": {},
   "outputs": [],
   "source": [
    "perl two_read_bam_combiner.pl salsa_scaffolding.filtered.end1.bam salsa_scaffolding.filtered.end2.bam samtools 10 | samtools view -bS -t sim_c500/sim_c500_GCF_000002985.6_WBcel235_genomic.mixed.fa | samtools sort -o salsa_scaffolding.end.bam"
   ]
  },
  {
   "cell_type": "markdown",
   "metadata": {},
   "source": [
    "## Add read group"
   ]
  },
  {
   "cell_type": "code",
   "execution_count": null,
   "metadata": {},
   "outputs": [],
   "source": [
    "java -Xmx2g -jar picard.jar AddOrReplaceReadGroups \\\n",
    "            INPUT=salsa_scaffolding.end.bam \\\n",
    "            OUTPUT=salsa_scaffolding.processed.bam \\\n",
    "            ID=salsa_scaffolding LB=salsa_scaffolding \\\n",
    "            SM=\"overall_exp_name\" PL=ILLUMINA PU=none"
   ]
  },
  {
   "cell_type": "markdown",
   "metadata": {},
   "source": [
    "## Preparing inputs for SALSA2"
   ]
  },
  {
   "cell_type": "code",
   "execution_count": null,
   "metadata": {},
   "outputs": [],
   "source": [
    "bamToBed -i salsa_scaffolding.processed.bam > salsa_scaffolding.alignment.bed\n",
    "sort -k 4 salsa_scaffolding.alignment.bed > tmp && mv tmp salsa_scaffolding.alignment.bed\n",
    "\n",
    "samtools faidx sim_c500/sim_c500_GCF_000002985.6_WBcel235_genomic.mixed.fa"
   ]
  },
  {
   "cell_type": "markdown",
   "metadata": {},
   "source": [
    "# Scaffolding\n",
    "\n",
    "The program can be found at https://github.com/machinegun/SALSA\n",
    "\n",
    "It can be run with the script run_pipeline.py. The parameters used in this work are:\n",
    "&nbsp;&nbsp;&nbsp;&nbsp;&nbsp;&nbsp;-a : path to the draft assembly\n",
    "&nbsp;&nbsp;&nbsp;&nbsp;&nbsp;&nbsp;-l : path to file generated with samtools faidx, containing the contigs length\n",
    "&nbsp;&nbsp;&nbsp;&nbsp;&nbsp;&nbsp;-b : processed Hi-C reads\n",
    "&nbsp;&nbsp;&nbsp;&nbsp;&nbsp;&nbsp;-c : minimum contig length, here set to 0\n",
    "&nbsp;&nbsp;&nbsp;&nbsp;&nbsp;&nbsp;-e : restriction enzyme\n",
    "&nbsp;&nbsp;&nbsp;&nbsp;&nbsp;&nbsp;-i : number of iterations to perform\n",
    "&nbsp;&nbsp;&nbsp;&nbsp;&nbsp;&nbsp;-m : yes to correct misassemblies\n",
    "\n",
    "SALSA2 was run both with and without misassemblies correction. The number of iteration is set to the high value of 30, but the program never reached 30 iterations because it stops automatically when all information brought by Hi-C data is exhausted."
   ]
  },
  {
   "cell_type": "code",
   "execution_count": null,
   "metadata": {},
   "outputs": [],
   "source": [
    "#with misassemblies correction\n",
    "python SALSA/run_pipeline.py -a sim_c500/sim_c500_GCF_000002985.6_WBcel235_genomic.mixed.fa \\\n",
    "    -l sim_c500/sim_c500_GCF_000002985.6_WBcel235_genomic.mixed.fa.fai \\\n",
    "    -b salsa_scaffolding.alignment.bed -o scaffolds_yescorrect \\\n",
    "    -c 0 -e GATC -i 30 -m yes \n",
    "\n",
    "#without misassemblies correction\n",
    "python SALSA/run_pipeline.py -a sim_c500/sim_c500_GCF_000002985.6_WBcel235_genomic.mixed.fa \\\n",
    "    -l sim_c500/sim_c500_GCF_000002985.6_WBcel235_genomic.mixed.fa.fai \\\n",
    "    -b salsa_scaffolding.alignment.bed -o scaffolds_yescorrect \\\n",
    "    -c 0 -e GATC -i 30 -m no"
   ]
  }
 ],
 "metadata": {
  "kernelspec": {
   "display_name": "Bash",
   "language": "bash",
   "name": "bash"
  },
  "language_info": {
   "codemirror_mode": "shell",
   "file_extension": ".sh",
   "mimetype": "text/x-sh",
   "name": "bash"
  }
 },
 "nbformat": 4,
 "nbformat_minor": 2
}
